{
  "nbformat": 4,
  "nbformat_minor": 0,
  "metadata": {
    "colab": {
      "name": "第三課 基礎語法.ipynb",
      "version": "0.3.2",
      "provenance": [],
      "collapsed_sections": [],
      "toc_visible": true,
      "include_colab_link": true
    },
    "kernelspec": {
      "name": "python3",
      "display_name": "Python 3"
    }
  },
  "cells": [
    {
      "cell_type": "markdown",
      "metadata": {
        "id": "view-in-github",
        "colab_type": "text"
      },
      "source": [
        "<a href=\"https://colab.research.google.com/github/madmacwang/PythonMyWay/blob/master/%E7%AC%AC%E4%B8%89%E8%AA%B2_%E5%9F%BA%E7%A4%8E%E8%AA%9E%E6%B3%95.ipynb\" target=\"_parent\"><img src=\"https://colab.research.google.com/assets/colab-badge.svg\" alt=\"Open In Colab\"/></a>"
      ]
    },
    {
      "cell_type": "markdown",
      "metadata": {
        "id": "yT4_UEr22MO_",
        "colab_type": "text"
      },
      "source": [
        "# Python 基礎語法"
      ]
    },
    {
      "cell_type": "markdown",
      "metadata": {
        "id": "-05XApHq28ez",
        "colab_type": "text"
      },
      "source": [
        "## 一、Pthon 編碼  \n",
        "在中文環境默認情況下，Python 3 源碼文件以 UTF-8 編碼，所有字符串都是 unicode 字符串。 當然你也可以為源碼文件指定不同的編碼，例如：  \n",
        "**# -*- coding: cp-1252 -*-**  \n",
        "上述定義，允許在源文件中使用 Windows-1252 字符集中的字符編碼，其對應適合的語言為「保加利亞語、白羅斯語、馬其頓語、俄語、塞爾維亞語」。"
      ]
    },
    {
      "cell_type": "markdown",
      "metadata": {
        "id": "kD3tuEjx4bfF",
        "colab_type": "text"
      },
      "source": [
        "## 二、Python 編程"
      ]
    },
    {
      "cell_type": "markdown",
      "metadata": {
        "id": "StnXr_0m4nnB",
        "colab_type": "text"
      },
      "source": [
        "* ## 交互式編程  \n",
        "交互式編程不需要創建腳本文件，是通過 Python 的交互模式進來編寫代碼，Window 上在安裝 Python 時已經安裝了交互式編程客戶端。提示窗口如下：  \n",
        "![Python 3.7模式](https://upload.cc/i1/2019/07/25/ib1vE0.png)  \n",
        "![命令提示字元模式](https://upload.cc/i1/2019/07/25/y1rRV4.png)"
      ]
    },
    {
      "cell_type": "markdown",
      "metadata": {
        "colab_type": "text",
        "id": "f-Wo9QpE45Mk"
      },
      "source": [
        "* ## 腳本式編程  \n",
        "通過「腳本參數調用解釋器」或者各類「IDE 解釋器」開始執行腳本，直到腳本執行完畢。當腳本執行完成後，解釋器不再有效。  \n",
        "讓我們寫一個簡單的 Python 腳本程序。所有 Python 文件將以 .py 為擴展名。將以下的源代碼拷貝至 test.py 文件中。  \n",
        "![程式文件](https://upload.cc/i1/2019/07/25/sWHlFC.png)\n",
        "![Python Shell](https://upload.cc/i1/2019/07/25/cZSaDe.png)"
      ]
    },
    {
      "cell_type": "markdown",
      "metadata": {
        "id": "iX968hrTQsuJ",
        "colab_type": "text"
      },
      "source": [
        "## 三、Python 標識符  \n",
        "* 第一個字符必須是字母表中字母或下劃線 _ 。\n",
        "* 標識符的其他的部分由字母、數字和下劃線組成。\n",
        "* 標識符對大小寫敏感。\n",
        "* 在 Python 3 中，非 ASCII 標識符也是允許的了。"
      ]
    },
    {
      "cell_type": "markdown",
      "metadata": {
        "id": "lyvWcqmKSiIM",
        "colab_type": "text"
      },
      "source": [
        "## 四、Python 行與縮進  \n",
        "學習 Python 與其他語言最大的區別就是，Python 的代碼塊不使用大括號 {} 來控制類，函數以及其他邏輯判斷。  \n",
        "python 最具特色的就是用縮進來寫模塊。  \n",
        "縮進的空白數量是可變的，但是所有代碼塊語句必須包含相同的縮進空白數量，這個必須嚴格執行。如下所示："
      ]
    },
    {
      "cell_type": "code",
      "metadata": {
        "id": "pXz6JOcZTwkz",
        "colab_type": "code",
        "colab": {}
      },
      "source": [
        "if True:\n",
        "  print (\"True\")\n",
        "else:\n",
        "  print (\"False\")"
      ],
      "execution_count": 0,
      "outputs": []
    },
    {
      "cell_type": "markdown",
      "metadata": {
        "id": "oXMED_bkTOdg",
        "colab_type": "text"
      },
      "source": [
        "## 五、Python 保留字符  \n",
        "保留字即關鍵字，這些保留字不能用作常數或變數，或任何其他標識符名稱。  \n",
        "所有 Python 的關鍵字只包含小寫字母。  \n",
        "Python 的標準庫提供了一個 keyword 模塊，可以輸出當前版本的所有關鍵字，查詢方法如下："
      ]
    },
    {
      "cell_type": "code",
      "metadata": {
        "id": "Aa578vp1UWRV",
        "colab_type": "code",
        "colab": {}
      },
      "source": [
        "import keyword\n",
        "keyword.kwlist"
      ],
      "execution_count": 0,
      "outputs": []
    },
    {
      "cell_type": "markdown",
      "metadata": {
        "id": "dvR0HYMgVLio",
        "colab_type": "text"
      },
      "source": [
        "## 六、Python 多行語句  \n",
        "Python 通常是一行寫完一條語句，但如果語句很長，我們可以使用反斜槓 (\\) 來實現多行語句，例如："
      ]
    },
    {
      "cell_type": "code",
      "metadata": {
        "id": "2Cpo0SdIVZng",
        "colab_type": "code",
        "colab": {}
      },
      "source": [
        "total = 11111 + \\\n",
        "        22222 + \\\n",
        "        33333\n",
        "print (total)"
      ],
      "execution_count": 0,
      "outputs": []
    },
    {
      "cell_type": "markdown",
      "metadata": {
        "id": "S2qO87EtViQ4",
        "colab_type": "text"
      },
      "source": [
        "在 [], {}, 或 () 中的多行語句，不需要使用反斜槓(\\)，例如："
      ]
    },
    {
      "cell_type": "code",
      "metadata": {
        "id": "HMWhcreRVkhi",
        "colab_type": "code",
        "colab": {}
      },
      "source": [
        "total = {11111 + \n",
        "         22222 +\n",
        "         33333}\n",
        "print (total)"
      ],
      "execution_count": 0,
      "outputs": []
    },
    {
      "cell_type": "markdown",
      "metadata": {
        "id": "D0mQEOBiXUcs",
        "colab_type": "text"
      },
      "source": [
        "## 七、Python 語句"
      ]
    },
    {
      "cell_type": "markdown",
      "metadata": {
        "id": "DyzYMyKebolP",
        "colab_type": "text"
      },
      "source": [
        "### 1. 空行\n",
        "* 函數之間或類的方法之間用空行分隔，表示一段新的代碼的開始。類和函數入口之間也用一行空行分隔，以突出函數入口的開始。\n",
        "* 空行與代碼縮進不同，空行並不是Python語法的一部分。書寫時不插入空行，Python解釋器運行也不會出錯。\n",
        "* 空行的作用在於分隔兩段不同功能或含義的代碼，便於日後代碼的維護或重構。\n",
        "* 記住：**空行也是程序代碼的一部分**。"
      ]
    },
    {
      "cell_type": "markdown",
      "metadata": {
        "id": "NeGyEuvTZ4bZ",
        "colab_type": "text"
      },
      "source": [
        "### 2. 同一行顯示多條語句\n",
        "* Python可以在同一行中使用多條語句，語句之間使用分號(;)分割，以下是一個簡單的實例："
      ]
    },
    {
      "cell_type": "code",
      "metadata": {
        "id": "kmxJ8dg-aAHO",
        "colab_type": "code",
        "colab": {}
      },
      "source": [
        "# 不使用多條語句\n",
        "import sys\n",
        "x = 'runoob'\n",
        "sys.stdout.write(x + '\\n')\n",
        "\n",
        "# 在同一行中使用多條語句\n",
        "import sys; x = 'runoob'; sys.stdout.write(x + '\\n')"
      ],
      "execution_count": 0,
      "outputs": []
    },
    {
      "cell_type": "markdown",
      "metadata": {
        "id": "Bz5hgjYoZ8cC",
        "colab_type": "text"
      },
      "source": [
        "### 3. 多個語句構成代碼組\n",
        "* 將縮進相同的一組語句，構成一個代碼塊，我們稱之代碼組。\n",
        "* 像if、while、def和class這樣的復合語句，首行以關鍵字開始，以冒號 ( : ) 結束，該行之後的一行或多行代碼構成代碼組。\n",
        "* 我們將首行及後面的代碼組稱為一個子句 (clause)。"
      ]
    },
    {
      "cell_type": "code",
      "metadata": {
        "id": "6HSXZmMIbaE4",
        "colab_type": "code",
        "colab": {}
      },
      "source": [
        "a = 8\n",
        "b = 3\n",
        "\n",
        "if a > b : \n",
        "  print(a)\n",
        "else : \n",
        "  print(b)"
      ],
      "execution_count": 0,
      "outputs": []
    },
    {
      "cell_type": "markdown",
      "metadata": {
        "colab_type": "text",
        "id": "83IilmYbtMDs"
      },
      "source": [
        "## 八、Python 求助"
      ]
    },
    {
      "cell_type": "markdown",
      "metadata": {
        "id": "g60FM0OitVul",
        "colab_type": "text"
      },
      "source": [
        "使用 help() 函數查詢官方文件，是一個內建的求助系統，在沒有網路或是想要快速查詢時可以善加利用。"
      ]
    },
    {
      "cell_type": "code",
      "metadata": {
        "id": "KSnTj33xtYsr",
        "colab_type": "code",
        "colab": {}
      },
      "source": [
        "help(print)\n",
        "help(input)"
      ],
      "execution_count": 0,
      "outputs": []
    },
    {
      "cell_type": "markdown",
      "metadata": {
        "colab_type": "text",
        "id": "WW4EpM5_tvCa"
      },
      "source": [
        "## 九、Python 3 的內建函數"
      ]
    },
    {
      "cell_type": "markdown",
      "metadata": {
        "id": "q99kX-b8t27N",
        "colab_type": "text"
      },
      "source": [
        "我們可以在 https://docs.python.org/3/library/functions.html 官方文件中查看有哪些內建函數。"
      ]
    }
  ]
}