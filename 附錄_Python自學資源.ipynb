{
  "nbformat": 4,
  "nbformat_minor": 0,
  "metadata": {
    "colab": {
      "name": "附錄 Python自學資源.ipynb",
      "version": "0.3.2",
      "provenance": [],
      "collapsed_sections": [],
      "toc_visible": true,
      "include_colab_link": true
    },
    "kernelspec": {
      "name": "python3",
      "display_name": "Python 3"
    }
  },
  "cells": [
    {
      "cell_type": "markdown",
      "metadata": {
        "id": "view-in-github",
        "colab_type": "text"
      },
      "source": [
        "<a href=\"https://colab.research.google.com/github/madmacwang/PythonMyWay/blob/master/%E9%99%84%E9%8C%84_Python%E8%87%AA%E5%AD%B8%E8%B3%87%E6%BA%90.ipynb\" target=\"_parent\"><img src=\"https://colab.research.google.com/assets/colab-badge.svg\" alt=\"Open In Colab\"/></a>"
      ]
    },
    {
      "cell_type": "markdown",
      "metadata": {
        "id": "eL2CQ6b71uJy",
        "colab_type": "text"
      },
      "source": [
        "# Python 相關"
      ]
    },
    {
      "cell_type": "markdown",
      "metadata": {
        "colab_type": "text",
        "id": "wFnbfEfZ4eK9"
      },
      "source": [
        "## 一、網路資源\n",
        "\n",
        "\n",
        "\n",
        "\n"
      ]
    },
    {
      "cell_type": "markdown",
      "metadata": {
        "id": "88WD9Djs3_ri",
        "colab_type": "text"
      },
      "source": [
        "* [Programming for Everybody (Getting Started with Python) - 首頁 | Coursera](https://www.coursera.org/learn/python/home/welcome)\n",
        "* [RUNOOB.COM [Python3 教程 | 菜鸟教程]](http://www.runoob.com/python3/python3-tutorial.html)\n",
        "* [RUNOOB.COM [Python2 教程 | 菜鸟教程]](http://www.runoob.com/python/python-tutorial.html)\n",
        "* [Crossin的編程教室 - Python3入門](https://python666.cn/cls/lesson/list/)\n",
        "* [Crossin的編程教室 - Python2入門](https://crossincode.com/course/lesson_list/)\n",
        "* [笨辦法學Python · 看雲](https://www.kancloud.cn/kancloud/learn-python-hard-way/49863)\n",
        "* [彭彭的線上教學](https://training.pada-x.com/online.htm)\n",
        "* [Hello Py: Python 程式設計](https://bookdown.org/tonykuoyj/hello-py/)"
      ]
    },
    {
      "cell_type": "markdown",
      "metadata": {
        "colab_type": "text",
        "id": "yZS3GM4d6hWv"
      },
      "source": [
        "## 二、視頻資源\n",
        "* [彭彭老師 | Python 入門教學課程 - YouTube](https://www.youtube.com/playlist?list=PL-g0fdC5RMboYEyt6QS2iLb_1m7QcgfHk)\n",
        "* "
      ]
    },
    {
      "cell_type": "markdown",
      "metadata": {
        "colab_type": "text",
        "id": "KZpXxiAN4jRy"
      },
      "source": [
        "## 三、電子書資源"
      ]
    },
    {
      "cell_type": "markdown",
      "metadata": {
        "colab_type": "text",
        "id": "GS5MExcDp8Bf"
      },
      "source": [
        "## 四、程式範例  \n",
        "* [Python 100例 | 菜鳥教程](http://www.runoob.com/python/python-100-examples.html)\n",
        "* [Python-基本範例 (46練習題)](http://kh-coding.blogspot.com/p/python-46.html) / [Python Programming Examples | Programiz](https://www.programiz.com/python-programming/examples)\n",
        "* kk"
      ]
    },
    {
      "cell_type": "markdown",
      "metadata": {
        "id": "DSAGHRxq13a3",
        "colab_type": "text"
      },
      "source": [
        "# GitHub 相關"
      ]
    },
    {
      "cell_type": "markdown",
      "metadata": {
        "id": "OK70qOCH2Asq",
        "colab_type": "text"
      },
      "source": [
        "## 一、網路資源\n",
        "\n",
        "\n",
        "\n",
        "\n"
      ]
    },
    {
      "cell_type": "markdown",
      "metadata": {
        "id": "tJ-VPiwR2VJk",
        "colab_type": "text"
      },
      "source": [
        "*   [猴子都能懂的GIT入门 | 贝格乐(Backlog)](https://backlog.com/git-tutorial/cn/)\n",
        "*   [RUNOOB.COM [Git 教程 | 菜鸟教程]](http://www.runoob.com/git/git-tutorial.html)\n",
        "\n"
      ]
    },
    {
      "cell_type": "markdown",
      "metadata": {
        "colab_type": "text",
        "id": "-fuDSxtg6xWP"
      },
      "source": [
        "## 二、視頻資源"
      ]
    },
    {
      "cell_type": "markdown",
      "metadata": {
        "id": "Gui2K_ir2PPT",
        "colab_type": "text"
      },
      "source": [
        "## 三、電子書資源"
      ]
    },
    {
      "cell_type": "markdown",
      "metadata": {
        "id": "OVPc6Faa7uWJ",
        "colab_type": "text"
      },
      "source": [
        "# Google Colab 資源\n",
        "* [Hello Py: Python 程式設計](https://bookdown.org/tonykuoyj/hello-py/)\n",
        "* [第一次用 Google Colab 就上手 – mc.ai](https://mc.ai/%e7%ac%ac%e4%b8%80%e6%ac%a1%e7%94%a8-google-colab-%e5%b0%b1%e4%b8%8a%e6%89%8b/?fbclid=IwAR3cdszFeaVlPeBYUjzACOQSgrU7pme_aOIuZiQJtr6ZFcKahbnT0-Yt8x0)\n",
        "* [推薦Python初學者的好用工具：Google Colab｜數位時代](https://www.bnext.com.tw/article/52618/recommand-to-programming-language-learner-python-google-colab?fbclid=IwAR0VyULdgM5_n_mUPlCZk4nh7o7n1VvnS0akvUqGUGfYbSUE3YMB-14-Xj0)"
      ]
    },
    {
      "cell_type": "markdown",
      "metadata": {
        "colab_type": "text",
        "id": "0Umv0sKgstpn"
      },
      "source": [
        "# Visual Studio Code 資源\n",
        "* 111"
      ]
    }
  ]
}