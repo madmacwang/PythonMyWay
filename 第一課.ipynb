{
  "nbformat": 4,
  "nbformat_minor": 0,
  "metadata": {
    "colab": {
      "name": "第一課.ipynb",
      "version": "0.3.2",
      "provenance": [],
      "collapsed_sections": [],
      "toc_visible": true,
      "include_colab_link": true
    },
    "kernelspec": {
      "name": "python3",
      "display_name": "Python 3"
    }
  },
  "cells": [
    {
      "cell_type": "markdown",
      "metadata": {
        "id": "view-in-github",
        "colab_type": "text"
      },
      "source": [
        "<a href=\"https://colab.research.google.com/github/madmacwang/PythonMyWay/blob/master/%E7%AC%AC%E4%B8%80%E8%AA%B2.ipynb\" target=\"_parent\"><img src=\"https://colab.research.google.com/assets/colab-badge.svg\" alt=\"Open In Colab\"/></a>"
      ]
    },
    {
      "cell_type": "markdown",
      "metadata": {
        "id": "KuS_90_9F7p_",
        "colab_type": "text"
      },
      "source": [
        "#第一個 Python 程式 : print"
      ]
    },
    {
      "cell_type": "markdown",
      "metadata": {
        "id": "zm7iqYbxGAeH",
        "colab_type": "text"
      },
      "source": [
        "print，中文的意思是列印，在 python 裡它不是在紙上列印，而是列印在命令行，或者叫「終端」、「控制台」裡面。\n",
        "\n",
        "print 是 python 裡最基本的一個操作，它的操作對象是一個「**字符串**」。\n",
        "\n",
        "print 指令的基本格式是：\n",
        "**print (你要列印的東西)**\n",
        "\n",
        "這裡一定要英文字符的括號，所有程式中出現的符號都必須是英文字符，注意別被你的輸入法坑了  \n",
        "現在、請在程式碼輸入欄裡輸入 print('Hello World!')，然後點擊程式碼欄位左邊的 ![](https://upload.cc/i1/2019/07/22/cb68ZK.png) 運行圖示。"
      ]
    },
    {
      "cell_type": "code",
      "metadata": {
        "id": "RFYsJoKMOFjm",
        "colab_type": "code",
        "outputId": "38aa2ca4-ebe1-4ffc-a9b5-17ff244a4a6d",
        "colab": {
          "base_uri": "https://localhost:8080/",
          "height": 35
        }
      },
      "source": [
        "print('Hello World!')"
      ],
      "execution_count": 0,
      "outputs": [
        {
          "output_type": "stream",
          "text": [
            "Hello World!\n"
          ],
          "name": "stdout"
        }
      ]
    },
    {
      "cell_type": "markdown",
      "metadata": {
        "id": "DSYv6mJIRKwY",
        "colab_type": "text"
      },
      "source": [
        "那麼、如果**輸入中文**也可以嗎？  \n",
        "\n",
        "請在程式碼輸入欄裡輸入 print('大家好！')，然後點擊程式碼欄位左邊的運行圖示試試看？"
      ]
    },
    {
      "cell_type": "code",
      "metadata": {
        "id": "N64_ONo6Rjon",
        "colab_type": "code",
        "outputId": "689eaff8-6da4-4133-af00-272a7cde58ef",
        "colab": {
          "base_uri": "https://localhost:8080/",
          "height": 35
        }
      },
      "source": [
        "print('大家好！')"
      ],
      "execution_count": 0,
      "outputs": [
        {
          "output_type": "stream",
          "text": [
            "大家好！\n"
          ],
          "name": "stdout"
        }
      ]
    },
    {
      "cell_type": "markdown",
      "metadata": {
        "id": "yFkPGdMyuvll",
        "colab_type": "text"
      },
      "source": [
        "如果中文顯示有問題？(在文件中，如何顯示自己國家的中文字？)  \n",
        "\n",
        "請在你文件的第一行輸入 **# -*- coding: utf-8 -*-**。"
      ]
    },
    {
      "cell_type": "markdown",
      "metadata": {
        "id": "e2eCpv6oDpIx",
        "colab_type": "text"
      },
      "source": [
        "那麼、如果括號裡**沒有使用引號**呢？\n",
        "\n",
        "請在程式碼輸入欄裡輸入 print(Hello World!)，然後點擊程式碼欄位左邊的運行圖示試試看？"
      ]
    },
    {
      "cell_type": "code",
      "metadata": {
        "id": "XBEc3GLYEM6E",
        "colab_type": "code",
        "outputId": "5847fe5f-07ab-4e1b-c4c4-e02c1572fabe",
        "colab": {
          "base_uri": "https://localhost:8080/",
          "height": 132
        }
      },
      "source": [
        "print(Hello World!)"
      ],
      "execution_count": 0,
      "outputs": [
        {
          "output_type": "error",
          "ename": "SyntaxError",
          "evalue": "ignored",
          "traceback": [
            "\u001b[0;36m  File \u001b[0;32m\"<ipython-input-8-898d2b40ca9e>\"\u001b[0;36m, line \u001b[0;32m1\u001b[0m\n\u001b[0;31m    print(Hello World!)\u001b[0m\n\u001b[0m                    ^\u001b[0m\n\u001b[0;31mSyntaxError\u001b[0m\u001b[0;31m:\u001b[0m invalid syntax\n"
          ]
        }
      ]
    },
    {
      "cell_type": "code",
      "metadata": {
        "id": "obua7MC3ouB_",
        "colab_type": "code",
        "outputId": "5f18dab6-cb2f-4dcf-ab50-8f1d252e9d88",
        "colab": {
          "base_uri": "https://localhost:8080/",
          "height": 167
        }
      },
      "source": [
        "print(abcde)"
      ],
      "execution_count": 0,
      "outputs": [
        {
          "output_type": "error",
          "ename": "NameError",
          "evalue": "ignored",
          "traceback": [
            "\u001b[0;31m---------------------------------------------------------------------------\u001b[0m",
            "\u001b[0;31mNameError\u001b[0m                                 Traceback (most recent call last)",
            "\u001b[0;32m<ipython-input-10-e8409d1cf4b6>\u001b[0m in \u001b[0;36m<module>\u001b[0;34m()\u001b[0m\n\u001b[0;32m----> 1\u001b[0;31m \u001b[0mprint\u001b[0m\u001b[0;34m(\u001b[0m\u001b[0mabcde\u001b[0m\u001b[0;34m)\u001b[0m\u001b[0;34m\u001b[0m\u001b[0;34m\u001b[0m\u001b[0m\n\u001b[0m",
            "\u001b[0;31mNameError\u001b[0m: name 'abcde' is not defined"
          ]
        }
      ]
    },
    {
      "cell_type": "code",
      "metadata": {
        "id": "BAswFUIcovpT",
        "colab_type": "code",
        "outputId": "76d565b6-ef6e-460f-dc73-dc95ff6469dd",
        "colab": {
          "base_uri": "https://localhost:8080/",
          "height": 35
        }
      },
      "source": [
        "print(12345)"
      ],
      "execution_count": 0,
      "outputs": [
        {
          "output_type": "stream",
          "text": [
            "12345\n"
          ],
          "name": "stdout"
        }
      ]
    },
    {
      "cell_type": "markdown",
      "metadata": {
        "id": "XyuV5Fx4qHMe",
        "colab_type": "text"
      },
      "source": [
        "疑？為什麼「**數字型態**」的 12345 反而可以呢？請想一想！"
      ]
    },
    {
      "cell_type": "markdown",
      "metadata": {
        "id": "9t6329qmEVxd",
        "colab_type": "text"
      },
      "source": [
        "# print 與 Python 算數運算符號"
      ]
    },
    {
      "cell_type": "markdown",
      "metadata": {
        "id": "PsrTGjvvGW-n",
        "colab_type": "text"
      },
      "source": [
        "● + plus 加號  \n",
        "● -  minus 減號  \n",
        "● / slash (斜槓) 除號  \n",
        "● * asterisk (星號) 乘號  \n",
        "● % percent (百分號) 模除 - 取(除法的)餘數整數  \n",
        "● // 取(除法的)商數整數  \n",
        "● ** 冪(次方)"
      ]
    },
    {
      "cell_type": "code",
      "metadata": {
        "id": "Sf1Mr3mgFMk5",
        "colab_type": "code",
        "outputId": "51f03516-6453-4811-aea0-415f7fa36c51",
        "colab": {
          "base_uri": "https://localhost:8080/",
          "height": 35
        }
      },
      "source": [
        "print(3.14)"
      ],
      "execution_count": 0,
      "outputs": [
        {
          "output_type": "stream",
          "text": [
            "3.14\n"
          ],
          "name": "stdout"
        }
      ]
    },
    {
      "cell_type": "code",
      "metadata": {
        "id": "x8SzW3G8FTtv",
        "colab_type": "code",
        "outputId": "055ae016-bf1b-4e36-9943-cb5d15a51290",
        "colab": {
          "base_uri": "https://localhost:8080/",
          "height": 35
        }
      },
      "source": [
        "print(1+2*3)"
      ],
      "execution_count": 0,
      "outputs": [
        {
          "output_type": "stream",
          "text": [
            "7\n"
          ],
          "name": "stdout"
        }
      ]
    },
    {
      "cell_type": "code",
      "metadata": {
        "id": "6kR5nvvwMy4c",
        "colab_type": "code",
        "outputId": "bc6a34c6-0c50-4480-be1a-e27dfb9ff590",
        "colab": {
          "base_uri": "https://localhost:8080/",
          "height": 35
        }
      },
      "source": [
        "print(27/3-2)"
      ],
      "execution_count": 0,
      "outputs": [
        {
          "output_type": "stream",
          "text": [
            "7.0\n"
          ],
          "name": "stdout"
        }
      ]
    },
    {
      "cell_type": "code",
      "metadata": {
        "id": "XlnZJd3RNP8z",
        "colab_type": "code",
        "outputId": "66bac0d5-e530-4a91-f5fd-3927e69ad3d9",
        "colab": {
          "base_uri": "https://localhost:8080/",
          "height": 35
        }
      },
      "source": [
        "print(6*(3+2))"
      ],
      "execution_count": 0,
      "outputs": [
        {
          "output_type": "stream",
          "text": [
            "30\n"
          ],
          "name": "stdout"
        }
      ]
    },
    {
      "cell_type": "code",
      "metadata": {
        "id": "eMEzJuBaLLb_",
        "colab_type": "code",
        "outputId": "503fe695-8e12-459f-d6bc-6c20c852e4f7",
        "colab": {
          "base_uri": "https://localhost:8080/",
          "height": 35
        }
      },
      "source": [
        "print (18 % 4)"
      ],
      "execution_count": 0,
      "outputs": [
        {
          "output_type": "stream",
          "text": [
            "2\n"
          ],
          "name": "stdout"
        }
      ]
    },
    {
      "cell_type": "code",
      "metadata": {
        "id": "UcIFRyoSOvmc",
        "colab_type": "code",
        "outputId": "ac4145c9-2aea-4d90-c71e-081e0790496d",
        "colab": {
          "base_uri": "https://localhost:8080/",
          "height": 35
        }
      },
      "source": [
        "print(19//3)"
      ],
      "execution_count": 0,
      "outputs": [
        {
          "output_type": "stream",
          "text": [
            "6\n"
          ],
          "name": "stdout"
        }
      ]
    },
    {
      "cell_type": "code",
      "metadata": {
        "id": "buPykVmLO-ob",
        "colab_type": "code",
        "outputId": "07bf4fff-eb65-471a-ab70-cbab0b58ff29",
        "colab": {
          "base_uri": "https://localhost:8080/",
          "height": 35
        }
      },
      "source": [
        "print(2**4)"
      ],
      "execution_count": 0,
      "outputs": [
        {
          "output_type": "stream",
          "text": [
            "16\n"
          ],
          "name": "stdout"
        }
      ]
    },
    {
      "cell_type": "markdown",
      "metadata": {
        "id": "GlIAnrQd09L9",
        "colab_type": "text"
      },
      "source": [
        "## 操作題\n",
        "先實際操作再解釋"
      ]
    },
    {
      "cell_type": "code",
      "metadata": {
        "id": "GwSxFLGSzyaZ",
        "colab_type": "code",
        "outputId": "cc2a726c-7bf1-412b-a43d-44c77cca9000",
        "colab": {
          "base_uri": "https://localhost:8080/",
          "height": 260
        }
      },
      "source": [
        "print (\"I will now count my chickens:\")\n",
        "print (\"Hens\", 25 + 30 / 6)\n",
        "print (\"Roosters\", 100 - 25 * 3 % 4)\n",
        "\n",
        "print (\"Now I will count the eggs:\")\n",
        "print (3 + 2 + 1 - 5 + 4 % 2 - 1 / 4 + 6)\n",
        "\n",
        "print (\"Is it true that 3 + 2 < 5 - 7?\")\n",
        "print (3 + 2 < 5 - 7)\n",
        "\n",
        "print (\"What is 3 + 2?\", 3 + 2)\n",
        "print (\"What is 5 - 7?\", 5 - 7)\n",
        "\n",
        "print (\"Oh, that's why it's False.\")\n",
        "\n",
        "print (\"How about some more?\")\n",
        "print (\"Is it greater?\", \"5 > -2\",5 > -2)\n",
        "print (\"Is it greater or equal?\", \"5 >= -2\",5 >= -2)\n",
        "print (\"Is it less or equal?\", \"5 <= -2\",5 <= -2)"
      ],
      "execution_count": 0,
      "outputs": [
        {
          "output_type": "stream",
          "text": [
            "I will now count my chickens:\n",
            "Hens 30.0\n",
            "Roosters 97\n",
            "Now I will count the eggs:\n",
            "6.75\n",
            "Is it true that 3 + 2 < 5 - 7?\n",
            "False\n",
            "What is 3 + 2? 5\n",
            "What is 5 - 7? -2\n",
            "Oh, that's why it's False.\n",
            "How about some more?\n",
            "Is it greater? 5 > -2 True\n",
            "Is it greater or equal? 5 >= -2 True\n",
            "Is it less or equal? 5 <= -2 False\n"
          ],
          "name": "stdout"
        }
      ]
    },
    {
      "cell_type": "markdown",
      "metadata": {
        "id": "txxJtkM_ena5",
        "colab_type": "text"
      },
      "source": [
        "如果輸入都正確的話，你應該可以得到如下的結果：  \n",
        "I will now count my chickens:  \n",
        "Hens 30  \n",
        "Roosters 97  \n",
        "Now I will count the eggs:  \n",
        "7  \n",
        "Is it true that 3 + 2 < 5 - 7?  \n",
        "False  \n",
        "What is 3 + 2? 5  \n",
        "What is 5 - 7? -2  \n",
        "Oh, that's why it's False.  \n",
        "How about some more.  \n",
        "Is it greater? True  \n",
        "Is it greater or equal? 5 >= -2 True  \n",
        "Is it less or equal? 5 <= -2 False"
      ]
    },
    {
      "cell_type": "markdown",
      "metadata": {
        "id": "_eCXg_tnf1Zr",
        "colab_type": "text"
      },
      "source": [
        "現在、請使用 # 符號在程式代碼每一行的前面一行，為自己寫一個註釋，說明這一行的作用。"
      ]
    },
    {
      "cell_type": "markdown",
      "metadata": {
        "id": "Xk0LElrYFfBf",
        "colab_type": "text"
      },
      "source": [
        "# print 與 Python 比較(關係)運算符號"
      ]
    },
    {
      "cell_type": "markdown",
      "metadata": {
        "id": "berCG_WxMqgS",
        "colab_type": "text"
      },
      "source": [
        "● < 小於  \n",
        "● > 大於  \n",
        "● <= 小於等於  \n",
        "● >= 大於等於  \n",
        "● == 等於 (比較對象是否相等)  \n",
        "● != 不等於 (比較兩個對象是否不相等)  \n",
        "● <> 不等於 (比較兩個對象是否不相等)"
      ]
    },
    {
      "cell_type": "markdown",
      "metadata": {
        "id": "t7pJuWXE5nXr",
        "colab_type": "text"
      },
      "source": [
        "# print 與 Python 賦值運算符號"
      ]
    },
    {
      "cell_type": "markdown",
      "metadata": {
        "colab_type": "text",
        "id": "MHUPich15pYS"
      },
      "source": [
        "● =\t簡單的賦值運算符 (c = a + b 將 a + b 的運算結果賦值為 c)  \n",
        "● += \t加法賦值運算符 (c += a 等效於 c = c + a)  \n",
        "● -= 減法賦值運算符 (c -= a 等效於 c = c - a)  \n",
        "● *= 乘法賦值運算符 (c *= a 等效於 c = c * a)  \n",
        "● /= 除法賦值運算符 (c /= a 等效於 c = c / a)  \n",
        "● //= 取整除賦值運算符 (c //= a 等效於 c = c // a)  "
      ]
    },
    {
      "cell_type": "markdown",
      "metadata": {
        "colab_type": "text",
        "id": "PukmJCCG6S7c"
      },
      "source": [
        "# print 與 Python 邏輯運算符號"
      ]
    },
    {
      "cell_type": "markdown",
      "metadata": {
        "colab_type": "text",
        "id": "_YHN-SfR6gcy"
      },
      "source": [
        "● and **和** (x and y / 如果 x 為 False，x and y 返回 False，否則它返回 y 的計算值。)  \n",
        "● or **或**  (x or y / 如果 x 是 True，返回 x 的值，否則它返回 y 的計算值)  \n",
        "● not **非** (not x / 如果 x 為 True，返回 False；如果 x 為 False，返回 True)"
      ]
    },
    {
      "cell_type": "code",
      "metadata": {
        "id": "t2fGc0jZBk51",
        "colab_type": "code",
        "outputId": "ad33f8f3-9e04-4d6e-db76-bc1ff5b8ea7d",
        "colab": {
          "base_uri": "https://localhost:8080/",
          "height": 52
        }
      },
      "source": [
        "x=False\n",
        "y=True\n",
        "print(x and y)\n",
        "print(x or y)"
      ],
      "execution_count": 0,
      "outputs": [
        {
          "output_type": "stream",
          "text": [
            "False\n",
            "True\n"
          ],
          "name": "stdout"
        }
      ]
    },
    {
      "cell_type": "markdown",
      "metadata": {
        "id": "8_WS6C1V15Kq",
        "colab_type": "text"
      },
      "source": [
        "# 弱智遊戲--1  \n",
        "我們會在後續的單元陸續完成這個小程式；現在、請輸入如下的程式碼，並且確定運行沒有問題。"
      ]
    },
    {
      "cell_type": "code",
      "metadata": {
        "id": "-5t612Ck2OLD",
        "colab_type": "code",
        "outputId": "67a89d79-9291-4f7c-8552-b30c284eb5e2",
        "colab": {
          "base_uri": "https://localhost:8080/",
          "height": 173
        }
      },
      "source": [
        "print('Guess what I think?')\n",
        "\n",
        "print(5)\n",
        "print('Your answer is too small.')\n",
        "\n",
        "print(12)\n",
        "print('Your answer is too large.')\n",
        "\n",
        "print(9)\n",
        "print('Your answer is too small.')\n",
        "\n",
        "print(10)\n",
        "print('BINGO!!!')"
      ],
      "execution_count": 0,
      "outputs": [
        {
          "output_type": "stream",
          "text": [
            "Guess what I think?\n",
            "5\n",
            "Your answer is too small.\n",
            "12\n",
            "Your answer is too large.\n",
            "9\n",
            "Your answer is too small.\n",
            "10\n",
            "BINGO!!!\n"
          ],
          "name": "stdout"
        }
      ]
    }
  ]
}