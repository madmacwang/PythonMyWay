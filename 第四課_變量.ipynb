{
  "nbformat": 4,
  "nbformat_minor": 0,
  "metadata": {
    "colab": {
      "name": "第四課 變量.ipynb",
      "version": "0.3.2",
      "provenance": [],
      "collapsed_sections": [],
      "toc_visible": true,
      "include_colab_link": true
    },
    "kernelspec": {
      "name": "python3",
      "display_name": "Python 3"
    }
  },
  "cells": [
    {
      "cell_type": "markdown",
      "metadata": {
        "id": "view-in-github",
        "colab_type": "text"
      },
      "source": [
        "<a href=\"https://colab.research.google.com/github/madmacwang/PythonMyWay/blob/master/%E7%AC%AC%E5%9B%9B%E8%AA%B2_%E8%AE%8A%E9%87%8F.ipynb\" target=\"_parent\"><img src=\"https://colab.research.google.com/assets/colab-badge.svg\" alt=\"Open In Colab\"/></a>"
      ]
    },
    {
      "cell_type": "markdown",
      "metadata": {
        "id": "6E1QBxLGJc7R",
        "colab_type": "text"
      },
      "source": [
        "# 變量"
      ]
    },
    {
      "cell_type": "markdown",
      "metadata": {
        "id": "cudWb0epJmCK",
        "colab_type": "text"
      },
      "source": [
        "我們已經學會了使用 print 語句和算術運算，下一步我們要學的是“變量”。  \n",
        "在編程中，變量只不過是用來指代某個東西的名字。  \n",
        "程序員通過使用變量名可以讓他們的程序讀起來更像英語，變量名可以讓我們更容易記住程式的內容。  \n",
        "變量，望文生義，就是變化的量。python裡創建一個變量的方法很簡單，給它起個名字，然後給它一個值。\n",
        "\n",
        "---\n",
        "**Python 中的變量不需要聲明**。  \n",
        "每個變量在使用前都必須「**賦值**」，變量被賦值了以後，該變量才會被創建。  \n",
        "在 Python 中，變量就是變量，它沒有「**類型**」，我們所說的**類型是變量所指的內存中對象的類型**。  \n",
        "等號（=）用來給變量賦值。  \n",
        "等號（=）運算符的左邊是一個變量名，等號（=）運算符的右邊是存儲在變量中的值。例如："
      ]
    },
    {
      "cell_type": "code",
      "metadata": {
        "id": "nZU-8LEqRWbv",
        "colab_type": "code",
        "colab": {}
      },
      "source": [
        "counter = 100          # 整數型變量\n",
        "miles   = 1000.52      # 浮點型變量\n",
        "name    = \"runoob\"     # 字符串\n",
        "visible = True         # 布林\n",
        " \n",
        "print (counter)\n",
        "print (miles)\n",
        "print (name)\n",
        "print (visible)"
      ],
      "execution_count": 0,
      "outputs": []
    },
    {
      "cell_type": "markdown",
      "metadata": {
        "id": "_zxOhdxeYWRn",
        "colab_type": "text"
      },
      "source": [
        "來複習一下 Python 的標識符  \n",
        "* 第一個字符必須是字母表中字母或下劃線 _ 。\n",
        "* 標識符的其他的部分由字母、數字和下劃線組成。\n",
        "* 標識符對大小寫敏感。\n",
        "* 在 Python 3 中，非 ASCII 標識符也是允許的了。"
      ]
    },
    {
      "cell_type": "markdown",
      "metadata": {
        "id": "57g5xdW8TsHg",
        "colab_type": "text"
      },
      "source": [
        "## 變量可以變換不同類型的值  \n",
        "變量，那就是能變的。所以在一次“賦值”操作之後，還可以繼續給它賦予新的值，而且**可以是不同類型的值**。"
      ]
    },
    {
      "cell_type": "code",
      "metadata": {
        "id": "V6fToKgTT0bj",
        "colab_type": "code",
        "colab": {}
      },
      "source": [
        "a = 123\n",
        "print (a)\n",
        "\n",
        "a = 'hi'\n",
        "print (a)"
      ],
      "execution_count": 0,
      "outputs": []
    },
    {
      "cell_type": "markdown",
      "metadata": {
        "id": "KIkSDWkDbeFY",
        "colab_type": "text"
      },
      "source": [
        "“=”的右邊還可以更複雜一點，比如是一個計算出的值:"
      ]
    },
    {
      "cell_type": "code",
      "metadata": {
        "id": "817Cm3-ubggZ",
        "colab_type": "code",
        "colab": {}
      },
      "source": [
        "value = 3 * 4\n",
        "print (value)\n",
        "\n",
        "value = 2 < 5\n",
        "print (value)"
      ],
      "execution_count": 0,
      "outputs": []
    },
    {
      "cell_type": "markdown",
      "metadata": {
        "id": "73Xrijx7b2Ko",
        "colab_type": "text"
      },
      "source": [
        "甚至，變量也可以是input():"
      ]
    },
    {
      "cell_type": "code",
      "metadata": {
        "id": "tbhtl4Pjb7JK",
        "colab_type": "code",
        "colab": {}
      },
      "source": [
        "name = input()\n",
        "print (name)"
      ],
      "execution_count": 0,
      "outputs": []
    },
    {
      "cell_type": "markdown",
      "metadata": {
        "id": "B-Tn3iVhU6Qt",
        "colab_type": "text"
      },
      "source": [
        "## 多個變量相同的賦值  \n",
        "Python允許你同時為多個變量賦值，例如："
      ]
    },
    {
      "cell_type": "code",
      "metadata": {
        "id": "HlguOXJ_VElG",
        "colab_type": "code",
        "colab": {}
      },
      "source": [
        "a = b = c = 1\n",
        "print(a,b,c)"
      ],
      "execution_count": 0,
      "outputs": []
    },
    {
      "cell_type": "markdown",
      "metadata": {
        "id": "2xu1somvVQuZ",
        "colab_type": "text"
      },
      "source": [
        "以上實例，創建一個整型對象，值為 1，從後向前賦值，三個變量被賦予相同的數值。"
      ]
    },
    {
      "cell_type": "markdown",
      "metadata": {
        "id": "dUwPYQ3UVWCX",
        "colab_type": "text"
      },
      "source": [
        "## 多個變量不同的賦值  \n",
        "您也可以為多個對象指定多個變量。例如："
      ]
    },
    {
      "cell_type": "code",
      "metadata": {
        "id": "hcgyd_NNVjqb",
        "colab_type": "code",
        "colab": {}
      },
      "source": [
        "a, b, c = 1, 2, \"runoob\"\n",
        "print(a,b,c)"
      ],
      "execution_count": 0,
      "outputs": []
    },
    {
      "cell_type": "markdown",
      "metadata": {
        "id": "2RfFuLJSecg1",
        "colab_type": "text"
      },
      "source": [
        "## 操作題\n",
        "先實際操作再解釋"
      ]
    },
    {
      "cell_type": "code",
      "metadata": {
        "id": "f9Nby_HPeetZ",
        "colab_type": "code",
        "colab": {}
      },
      "source": [
        "cars = 100\n",
        "space_in_a_car = 4.0 # 為甚麼用 4.0？\n",
        "drivers = 30\n",
        "passengers = 90\n",
        "cars_not_driven = cars - drivers\n",
        "cars_driven = drivers\n",
        "carpool_capacity = cars_driven * space_in_a_car\n",
        "average_passengers_per_car = passengers / cars_driven\n",
        "\n",
        "print (\"There are\", cars, \"cars available.\")\n",
        "print (\"There are only\", drivers, \"drivers available.\")\n",
        "print (\"There will be\", cars_not_driven, \"empty cars today.\")\n",
        "print (\"We can transport\", carpool_capacity, \"people today.\")\n",
        "print (\"We have\", passengers, \"to carpool today.\")\n",
        "print (\"We need to put about\", average_passengers_per_car, \"in each car.\")"
      ],
      "execution_count": 0,
      "outputs": []
    },
    {
      "cell_type": "markdown",
      "metadata": {
        "id": "SzVqET8KlgM6",
        "colab_type": "text"
      },
      "source": [
        "NOTE：space_in_a_car 中的 _ 是下劃線。你要自己學會怎樣打出這個字符來。  \n",
        "這個符號在變量裡**通常被用作假想的空格**，用來隔開單詞。"
      ]
    },
    {
      "cell_type": "markdown",
      "metadata": {
        "id": "4l2FrizqdbZU",
        "colab_type": "text"
      },
      "source": [
        "# Q & A"
      ]
    },
    {
      "cell_type": "markdown",
      "metadata": {
        "id": "JspsUQUfdd9u",
        "colab_type": "text"
      },
      "source": [
        "**Q：= (單等號) 和 == (雙等號) 之間的區別?**  \n",
        "(單等號) 用來賦值，==(雙等號)用來判斷等號兩邊的值是否相等。  \n",
        "\n",
        "**Q：我們能用 x=100 代替 x = 100 嗎?**  \n",
        "當然可以, 但是這種寫法不好。你應該在操作符的兩邊加上空格，這樣能提高你的代碼易讀性"
      ]
    },
    {
      "cell_type": "markdown",
      "metadata": {
        "id": "EROhkTh_cvb4",
        "colab_type": "text"
      },
      "source": [
        "# 弱智遊戲--2\n",
        "我們會在後續的單元陸續完成這個小程式；現在、請輸入如下的程式碼，並且確定運行沒有問題。"
      ]
    },
    {
      "cell_type": "code",
      "metadata": {
        "id": "fbEyIQ-mcPSD",
        "colab_type": "code",
        "colab": {}
      },
      "source": [
        "print (\"Who do you think I am?\")\n",
        "\n",
        "you = input()\n",
        "\n",
        "print (\"Oh, yes! I am a\")\n",
        "\n",
        "print (you)"
      ],
      "execution_count": 0,
      "outputs": []
    }
  ]
}