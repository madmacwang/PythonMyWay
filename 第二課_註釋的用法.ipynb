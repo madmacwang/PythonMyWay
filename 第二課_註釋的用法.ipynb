{
  "nbformat": 4,
  "nbformat_minor": 0,
  "metadata": {
    "colab": {
      "name": "第二課 註釋的用法.ipynb",
      "version": "0.3.2",
      "provenance": [],
      "collapsed_sections": [],
      "include_colab_link": true
    },
    "kernelspec": {
      "name": "python3",
      "display_name": "Python 3"
    }
  },
  "cells": [
    {
      "cell_type": "markdown",
      "metadata": {
        "id": "view-in-github",
        "colab_type": "text"
      },
      "source": [
        "<a href=\"https://colab.research.google.com/github/madmacwang/PythonMyWay/blob/master/%E7%AC%AC%E4%BA%8C%E8%AA%B2_%E8%A8%BB%E9%87%8B%E7%9A%84%E7%94%A8%E6%B3%95.ipynb\" target=\"_parent\"><img src=\"https://colab.research.google.com/assets/colab-badge.svg\" alt=\"Open In Colab\"/></a>"
      ]
    },
    {
      "cell_type": "markdown",
      "metadata": {
        "id": "mPFSUle6vCla",
        "colab_type": "text"
      },
      "source": [
        "# # 號註釋"
      ]
    },
    {
      "cell_type": "markdown",
      "metadata": {
        "id": "kJTieoTzxRJQ",
        "colab_type": "text"
      },
      "source": [
        "註釋(註解)在編程中是很重要的部分。它能告訴你這段代碼的用途，或者用來停止一部分你暫時不需要執行的代碼。  \n",
        "\n",
        "下面演示的是如何在python中使用註釋：  "
      ]
    },
    {
      "cell_type": "code",
      "metadata": {
        "id": "HHyufoTrzeRB",
        "colab_type": "code",
        "colab": {}
      },
      "source": [
        "# A comment, this is so you can read your program later.(這是一個註釋)\n",
        "# Anything after the # is ignored by python.(任何在#號之後的註釋內容都會被 python 忽視)\n",
        "\n",
        "print (\"I could have code like this.\") # and the comment after is ignored (在這段程式的 # 之後的註釋會被忽視)\n",
        "\n",
        "# You can also use a comment to \"disable\" or comment out a piece of code (你也可以使用 # 來\"停用\"某部分的程式碼)\n",
        "# print (\"This won't run.\") #這一行不會被執行\n"
      ],
      "execution_count": 0,
      "outputs": []
    },
    {
      "cell_type": "markdown",
      "metadata": {
        "id": "jIB6NI4AzXIe",
        "colab_type": "text"
      },
      "source": [
        "## 單行註釋  \n",
        "Python中單行註釋以 # 開頭，實例如下："
      ]
    },
    {
      "cell_type": "code",
      "metadata": {
        "id": "2rpI_8zlxaF4",
        "colab_type": "code",
        "colab": {}
      },
      "source": [
        "# 第一個註釋(單行註釋)\n",
        "print (\"Hello, Python!\") \n",
        "# 第二個註釋(單行註釋)"
      ],
      "execution_count": 0,
      "outputs": []
    },
    {
      "cell_type": "markdown",
      "metadata": {
        "id": "NKLoARalxqrk",
        "colab_type": "text"
      },
      "source": [
        "## 多行註釋  \n",
        "多行註釋可以用多個 # 號，或者使用三個單引號 '''，或者使用三個雙引號 \"\"\"，例如："
      ]
    },
    {
      "cell_type": "code",
      "metadata": {
        "id": "LrghP3hpxw3Z",
        "colab_type": "code",
        "colab": {}
      },
      "source": [
        "#第一個單行註釋\n",
        "#第二個單行註釋\n",
        " \n",
        "'''\n",
        "這是多行註釋，使用三個單引號\n",
        "這是多行註釋，使用三個單引號\n",
        "'''\n",
        " \n",
        "\"\"\"\n",
        "這也是多行註釋，使用三個雙引號\n",
        "這也是多行註釋，使用三個雙引號\n",
        "\"\"\"\n",
        "print (\"Hello, Python!\")"
      ],
      "execution_count": 0,
      "outputs": []
    }
  ]
}