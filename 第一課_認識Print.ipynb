{
  "nbformat": 4,
  "nbformat_minor": 0,
  "metadata": {
    "colab": {
      "name": "第一課 認識Print.ipynb",
      "version": "0.3.2",
      "provenance": [],
      "collapsed_sections": [],
      "toc_visible": true,
      "include_colab_link": true
    },
    "kernelspec": {
      "name": "python3",
      "display_name": "Python 3"
    }
  },
  "cells": [
    {
      "cell_type": "markdown",
      "metadata": {
        "id": "view-in-github",
        "colab_type": "text"
      },
      "source": [
        "<a href=\"https://colab.research.google.com/github/madmacwang/PythonMyWay/blob/master/%E7%AC%AC%E4%B8%80%E8%AA%B2_%E8%AA%8D%E8%AD%98Print.ipynb\" target=\"_parent\"><img src=\"https://colab.research.google.com/assets/colab-badge.svg\" alt=\"Open In Colab\"/></a>"
      ]
    },
    {
      "cell_type": "markdown",
      "metadata": {
        "id": "KuS_90_9F7p_",
        "colab_type": "text"
      },
      "source": [
        "#第一個 Python 程式 : print 函數"
      ]
    },
    {
      "cell_type": "markdown",
      "metadata": {
        "id": "zm7iqYbxGAeH",
        "colab_type": "text"
      },
      "source": [
        "print，中文的意思是列印，在 python 裡它不是在紙上列印，而是列印在命令行，或者叫「終端」、「控制台」裡面。\n",
        "\n",
        "print 是 python 裡最基本的一個操作，它的操作對象是一個「**字符串**」。\n",
        "\n",
        "String is a sequence of characters. In Python, strings are enclosed inside single quotes, double quotes or triple quotes (''', \"\"\").  \n",
        "\n",
        "字符串是一系列字符。在Python中，字符串包含在單引號(' ')、雙引號(\" \")、或三引號(''' ''')中。\n",
        "\n",
        "print 指令的基本格式是：\n",
        "**print (你要列印的東西)**\n",
        "\n",
        "這裡一定要英文字符的括號，所有程式中出現的符號都必須是英文字符，注意別被你的輸入法坑了  \n",
        "現在、請在程式碼輸入欄裡輸入 print('Hello World!')，然後點擊程式碼欄位左邊的 ![](https://upload.cc/i1/2019/07/22/cb68ZK.png) 運行圖示。"
      ]
    },
    {
      "cell_type": "code",
      "metadata": {
        "id": "RFYsJoKMOFjm",
        "colab_type": "code",
        "colab": {}
      },
      "source": [
        "print('Hello World!')"
      ],
      "execution_count": 0,
      "outputs": []
    },
    {
      "cell_type": "markdown",
      "metadata": {
        "id": "DSYv6mJIRKwY",
        "colab_type": "text"
      },
      "source": [
        "那麼、如果**輸入中文**也可以嗎？  \n",
        "\n",
        "請在程式碼輸入欄裡輸入 print('大家好！')，然後點擊程式碼欄位左邊的運行圖示試試看？"
      ]
    },
    {
      "cell_type": "code",
      "metadata": {
        "id": "N64_ONo6Rjon",
        "colab_type": "code",
        "colab": {}
      },
      "source": [
        "print('大家好！')"
      ],
      "execution_count": 0,
      "outputs": []
    },
    {
      "cell_type": "markdown",
      "metadata": {
        "id": "yFkPGdMyuvll",
        "colab_type": "text"
      },
      "source": [
        "如果中文顯示有問題？(在文件中，如何顯示自己國家的中文字？)  \n",
        "\n",
        "請在你文件的第一行輸入 **# -*- coding: utf-8 -*-**。  \n",
        "\n",
        "Python3.X 源碼文件默認使用 utf-8 編碼，所以可以正常解析中文，無需指定 UTF-8 編碼，所有字符串都是 unicode 字符串。  \n",
        "\n",
        "當然你也可以為源碼文件指定不同的編碼"
      ]
    },
    {
      "cell_type": "code",
      "metadata": {
        "id": "oFa_L4sa_99e",
        "colab_type": "code",
        "colab": {}
      },
      "source": [
        "# -- coding: utf-8 --\n",
        "print('在 Python2.x 版，如果要正常顯示中文，要在文件第一行輸入 # -- coding: utf-8 --')"
      ],
      "execution_count": 0,
      "outputs": []
    },
    {
      "cell_type": "markdown",
      "metadata": {
        "id": "e2eCpv6oDpIx",
        "colab_type": "text"
      },
      "source": [
        "那麼、如果括號裡**沒有使用引號**呢？\n",
        "\n",
        "請在程式碼輸入欄裡輸入 print(Hello World!)，然後點擊程式碼欄位左邊的運行圖示試試看？"
      ]
    },
    {
      "cell_type": "code",
      "metadata": {
        "id": "XBEc3GLYEM6E",
        "colab_type": "code",
        "colab": {}
      },
      "source": [
        "print(Hello World!)"
      ],
      "execution_count": 0,
      "outputs": []
    },
    {
      "cell_type": "code",
      "metadata": {
        "id": "obua7MC3ouB_",
        "colab_type": "code",
        "colab": {}
      },
      "source": [
        "print(abcde)"
      ],
      "execution_count": 0,
      "outputs": []
    },
    {
      "cell_type": "code",
      "metadata": {
        "id": "BAswFUIcovpT",
        "colab_type": "code",
        "colab": {}
      },
      "source": [
        "print(12345)"
      ],
      "execution_count": 0,
      "outputs": []
    },
    {
      "cell_type": "markdown",
      "metadata": {
        "id": "XyuV5Fx4qHMe",
        "colab_type": "text"
      },
      "source": [
        "疑？為什麼「**數字型態**」的 12345 反而可以呢？請想一想！"
      ]
    },
    {
      "cell_type": "markdown",
      "metadata": {
        "id": "FhmvMHzuAvmf",
        "colab_type": "text"
      },
      "source": [
        "**print 默認輸出是換行的**，如果要實現**不換行**需要在變量末尾加上 end=\"\"："
      ]
    },
    {
      "cell_type": "code",
      "metadata": {
        "id": "VPwRS9X_A711",
        "colab_type": "code",
        "colab": {}
      },
      "source": [
        "print('Hello ',end=\"\")\n",
        "print('World!')\n",
        "\n",
        "print(123,end=\"\")\n",
        "print(456)\n",
        "\n",
        "print(123,end=\" \")\n",
        "print(456)\n",
        "\n",
        "print(123,end=\",\")\n",
        "print(456)"
      ],
      "execution_count": 0,
      "outputs": []
    },
    {
      "cell_type": "markdown",
      "metadata": {
        "id": "ytMvgpVgwqwJ",
        "colab_type": "text"
      },
      "source": [
        "如果要把一個 Print() 裡的內容**強迫換行**，那可以使用 \\n"
      ]
    },
    {
      "cell_type": "code",
      "metadata": {
        "id": "AFQbaSItxChA",
        "colab_type": "code",
        "colab": {}
      },
      "source": [
        "print('我好棒棒你也好棒棒')\n",
        "print('\\n')\n",
        "print('我好棒棒\\n你也好棒棒')"
      ],
      "execution_count": 0,
      "outputs": []
    },
    {
      "cell_type": "markdown",
      "metadata": {
        "id": "9t6329qmEVxd",
        "colab_type": "text"
      },
      "source": [
        "# print 與 Python 算數運算符號"
      ]
    },
    {
      "cell_type": "markdown",
      "metadata": {
        "id": "PsrTGjvvGW-n",
        "colab_type": "text"
      },
      "source": [
        "● + plus 加號  \n",
        "● -  minus 減號  \n",
        "● / slash (斜槓) 除號  \n",
        "● * asterisk (星號) 乘號  \n",
        "● % percent (百分號) 模除 - 取(除法的)餘數整數  \n",
        "● // 取(除法的)商數整數  \n",
        "● ** 冪(次方)"
      ]
    },
    {
      "cell_type": "code",
      "metadata": {
        "id": "Sf1Mr3mgFMk5",
        "colab_type": "code",
        "colab": {}
      },
      "source": [
        "print(3.14)"
      ],
      "execution_count": 0,
      "outputs": []
    },
    {
      "cell_type": "code",
      "metadata": {
        "id": "x8SzW3G8FTtv",
        "colab_type": "code",
        "colab": {}
      },
      "source": [
        "print(1+2*3)"
      ],
      "execution_count": 0,
      "outputs": []
    },
    {
      "cell_type": "code",
      "metadata": {
        "id": "6kR5nvvwMy4c",
        "colab_type": "code",
        "colab": {}
      },
      "source": [
        "print(27/3-2)"
      ],
      "execution_count": 0,
      "outputs": []
    },
    {
      "cell_type": "code",
      "metadata": {
        "id": "XlnZJd3RNP8z",
        "colab_type": "code",
        "colab": {}
      },
      "source": [
        "print(6*(3+2))"
      ],
      "execution_count": 0,
      "outputs": []
    },
    {
      "cell_type": "code",
      "metadata": {
        "id": "eMEzJuBaLLb_",
        "colab_type": "code",
        "colab": {}
      },
      "source": [
        "print (18 % 4)"
      ],
      "execution_count": 0,
      "outputs": []
    },
    {
      "cell_type": "code",
      "metadata": {
        "id": "UcIFRyoSOvmc",
        "colab_type": "code",
        "colab": {}
      },
      "source": [
        "print(19//3)"
      ],
      "execution_count": 0,
      "outputs": []
    },
    {
      "cell_type": "code",
      "metadata": {
        "id": "buPykVmLO-ob",
        "colab_type": "code",
        "colab": {}
      },
      "source": [
        "print(2**4)"
      ],
      "execution_count": 0,
      "outputs": []
    },
    {
      "cell_type": "markdown",
      "metadata": {
        "id": "GlIAnrQd09L9",
        "colab_type": "text"
      },
      "source": [
        "## 操作題\n",
        "先實際操作再解釋"
      ]
    },
    {
      "cell_type": "code",
      "metadata": {
        "id": "GwSxFLGSzyaZ",
        "colab_type": "code",
        "colab": {}
      },
      "source": [
        "print (\"I will now count my chickens:\")\n",
        "print (\"Hens\", 25 + 30 / 6)\n",
        "print (\"Roosters\", 100 - 25 * 3 % 4)\n",
        "\n",
        "print (\"Now I will count the eggs:\")\n",
        "print (3 + 2 + 1 - 5 + 4 % 2 - 1 / 4 + 6)\n",
        "\n",
        "print (\"Is it true that 3 + 2 < 5 - 7?\")\n",
        "print (3 + 2 < 5 - 7)\n",
        "\n",
        "print (\"What is 3 + 2?\", 3 + 2)\n",
        "print (\"What is 5 - 7?\", 5 - 7)\n",
        "\n",
        "print (\"Oh, that's why it's False.\")\n",
        "\n",
        "print (\"How about some more?\")\n",
        "print (\"Is it greater?\", \"5 > -2\",5 > -2)\n",
        "print (\"Is it greater or equal?\", \"5 >= -2\",5 >= -2)\n",
        "print (\"Is it less or equal?\", \"5 <= -2\",5 <= -2)"
      ],
      "execution_count": 0,
      "outputs": []
    },
    {
      "cell_type": "markdown",
      "metadata": {
        "id": "txxJtkM_ena5",
        "colab_type": "text"
      },
      "source": [
        "如果輸入都正確的話，你應該可以得到如下的結果：  \n",
        "I will now count my chickens:  \n",
        "Hens 30  \n",
        "Roosters 97  \n",
        "Now I will count the eggs:  \n",
        "7  \n",
        "Is it true that 3 + 2 < 5 - 7?  \n",
        "False  \n",
        "What is 3 + 2? 5  \n",
        "What is 5 - 7? -2  \n",
        "Oh, that's why it's False.  \n",
        "How about some more.  \n",
        "Is it greater? True  \n",
        "Is it greater or equal? 5 >= -2 True  \n",
        "Is it less or equal? 5 <= -2 False"
      ]
    },
    {
      "cell_type": "markdown",
      "metadata": {
        "id": "_eCXg_tnf1Zr",
        "colab_type": "text"
      },
      "source": [
        "現在、請使用 # 符號在程式代碼每一行的前面一行，為自己寫一個註釋，說明這一行的作用。"
      ]
    },
    {
      "cell_type": "markdown",
      "metadata": {
        "id": "t7pJuWXE5nXr",
        "colab_type": "text"
      },
      "source": [
        "# print 與 Python 賦值運算符號"
      ]
    },
    {
      "cell_type": "markdown",
      "metadata": {
        "colab_type": "text",
        "id": "MHUPich15pYS"
      },
      "source": [
        "● =\t簡單的賦值運算符 (c = a + b 將 a + b 的運算結果賦值為 c)  \n",
        "● += \t加法賦值運算符 (c += a 等效於 c = c + a)  \n",
        "● -= 減法賦值運算符 (c -= a 等效於 c = c - a)  \n",
        "● *= 乘法賦值運算符 (c *= a 等效於 c = c * a)  \n",
        "● /= 除法賦值運算符 (c /= a 等效於 c = c / a)  \n",
        "● //= 取整除賦值運算符 (c //= a 等效於 c = c // a)  "
      ]
    },
    {
      "cell_type": "markdown",
      "metadata": {
        "id": "Xk0LElrYFfBf",
        "colab_type": "text"
      },
      "source": [
        "# print 與 Python 布林 bool (條件)運算符號"
      ]
    },
    {
      "cell_type": "markdown",
      "metadata": {
        "id": "ob_o6RnVya_P",
        "colab_type": "text"
      },
      "source": [
        "當我們需要進行條件判斷的時候就需要仰賴布林 (bool)，**布林只有 True 與 False 這兩個值**。  \n",
        "\n",
        "這裡值得注意的觀念是，Python 是**對大小寫敏感**（case-sensitive）的程式語言，我們輸入 True 會被成功識別為布林，但是 TRUE 則不會被識別成功喔！  \n",
        "\n",
        "布林型類似於二進制，只有兩個狀態：真 (True) 和假 (False)。二進制計數系統只使用1和0，只能表示兩種狀態，即開或關。  \n",
        "\n",
        "我們同樣也可以使用其他意義相反的詞語進行描述，如上和下，正和負，進和出。  \n",
        "\n",
        "布林數據類型只用於回答有兩種答案（是或否）的問題。"
      ]
    },
    {
      "cell_type": "markdown",
      "metadata": {
        "id": "berCG_WxMqgS",
        "colab_type": "text"
      },
      "source": [
        "● < 小於  \n",
        "● > 大於  \n",
        "● <= 小於等於  \n",
        "● >= 大於等於  \n",
        "● == 等於 (比較對象是否相等)  \n",
        "● != 不等於 (比較兩個對象是否不相等)  \n",
        "● <> 不等於 (比較兩個對象是否不相等)"
      ]
    },
    {
      "cell_type": "code",
      "metadata": {
        "id": "bgQ6XUBqBj3d",
        "colab_type": "code",
        "colab": {}
      },
      "source": [
        "print(9 > 2)\n",
        "\n",
        "print(25/5 < 3)"
      ],
      "execution_count": 0,
      "outputs": []
    },
    {
      "cell_type": "markdown",
      "metadata": {
        "id": "DRszVEXrBzuy",
        "colab_type": "text"
      },
      "source": [
        "關係運算的結果只有兩種：**True** (成立) 或者 **False** (不成立)"
      ]
    },
    {
      "cell_type": "markdown",
      "metadata": {
        "colab_type": "text",
        "id": "PukmJCCG6S7c"
      },
      "source": [
        "# print 與 Python 邏輯運算符號"
      ]
    },
    {
      "cell_type": "markdown",
      "metadata": {
        "id": "SOIHb-K8zAmW",
        "colab_type": "text"
      },
      "source": [
        "進行**條件判斷**的時候我們**常常會需要連結多個條件**，這時我們就**可以使用邏輯運算符號來將條件連結起來**。"
      ]
    },
    {
      "cell_type": "markdown",
      "metadata": {
        "colab_type": "text",
        "id": "_YHN-SfR6gcy"
      },
      "source": [
        "● and **和** (x and y / 如果 x 為 False，x and y 返回 False，否則它返回 y 的計算值。)  \n",
        "● or **或**  (x or y / 如果 x 是 True，返回 x 的值，否則它返回 y 的計算值)  \n",
        "● not **非** (not x / 如果 x 為 True，返回 False；如果 x 為 False，返回 True)"
      ]
    },
    {
      "cell_type": "code",
      "metadata": {
        "id": "t2fGc0jZBk51",
        "colab_type": "code",
        "colab": {}
      },
      "source": [
        "x = False\n",
        "y = True\n",
        "\n",
        "print(x and y)\n",
        "print(x or y)"
      ],
      "execution_count": 0,
      "outputs": []
    },
    {
      "cell_type": "markdown",
      "metadata": {
        "colab_type": "text",
        "id": "OqB0JNhrCoqb"
      },
      "source": [
        "**其中 and 也可以用 & 符號代替、or 也可以用 | 符號代替。**  "
      ]
    },
    {
      "cell_type": "markdown",
      "metadata": {
        "id": "8_WS6C1V15Kq",
        "colab_type": "text"
      },
      "source": [
        "# 弱智遊戲--1  \n",
        "我們會在後續的單元陸續完成這個小程式；現在、請輸入如下的程式碼，並且確定運行沒有問題。"
      ]
    },
    {
      "cell_type": "code",
      "metadata": {
        "id": "-5t612Ck2OLD",
        "colab_type": "code",
        "colab": {}
      },
      "source": [
        "print('Guess what I think?')\n",
        "\n",
        "print(5)\n",
        "print('Your answer is too small.')\n",
        "\n",
        "print(12)\n",
        "print('Your answer is too large.')\n",
        "\n",
        "print(9)\n",
        "print('Your answer is too small.')\n",
        "\n",
        "print(10)\n",
        "print('BINGO!!!')"
      ],
      "execution_count": 0,
      "outputs": []
    }
  ]
}